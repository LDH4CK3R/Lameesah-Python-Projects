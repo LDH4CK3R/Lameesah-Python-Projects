{
 "cells": [
  {
   "cell_type": "markdown",
   "id": "1992efb2",
   "metadata": {},
   "source": [
    "### Python Temperature Converter"
   ]
  },
  {
   "cell_type": "code",
   "execution_count": 1,
   "id": "d27f32b9",
   "metadata": {},
   "outputs": [
    {
     "name": "stdout",
     "output_type": "stream",
     "text": [
      "The temperature in celsius is: 33.1°C\n"
     ]
    }
   ],
   "source": [
    "unit = input(\"is this temperature in Celsius or Fahrenheit (C/F): \")\n",
    "temp = float(input(\"Enter the temperature:\"))\n",
    "\n",
    "if unit == \"C\":\n",
    "    temp = round((9 * temp) / 5 + 32, 1)\n",
    "    print(f\"The temperature in fahrenheit is: {temp}°F\")\n",
    "\n",
    "elif unit == \"F\":\n",
    "    temp = round((temp -32) * 5 / 9, 1)\n",
    "    print(f\"The temperature in celsius is: {temp}°C\")\n",
    "\n",
    "else:\n",
    "    print(f\"{unit} is an invalid unit of measurement\")"
   ]
  }
 ],
 "metadata": {
  "kernelspec": {
   "display_name": "base",
   "language": "python",
   "name": "python3"
  },
  "language_info": {
   "codemirror_mode": {
    "name": "ipython",
    "version": 3
   },
   "file_extension": ".py",
   "mimetype": "text/x-python",
   "name": "python",
   "nbconvert_exporter": "python",
   "pygments_lexer": "ipython3",
   "version": "3.12.7"
  }
 },
 "nbformat": 4,
 "nbformat_minor": 5
}
