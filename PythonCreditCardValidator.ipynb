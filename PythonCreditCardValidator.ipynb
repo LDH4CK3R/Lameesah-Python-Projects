{
 "cells": [
  {
   "cell_type": "markdown",
   "id": "18a37149",
   "metadata": {},
   "source": [
    "### Python Credit Card Validator"
   ]
  },
  {
   "cell_type": "code",
   "execution_count": 1,
   "id": "740bd6b1",
   "metadata": {},
   "outputs": [
    {
     "name": "stdout",
     "output_type": "stream",
     "text": [
      "7111111111111116\n",
      "INVALID\n"
     ]
    }
   ],
   "source": [
    "sum_odd_digits = 0\n",
    "sum_even_digits = 0\n",
    "total = 0\n",
    "\n",
    "#step 1\n",
    "card_number = input(\"Enter a credit card #: \")\n",
    "card_number = card_number.replace(\"-\", \"\")\n",
    "card_number = card_number.replace(\" \", \"\")\n",
    "card_number = card_number[::-1]\n",
    "print(card_number)\n",
    "\n",
    "#step 2\n",
    "for x in card_number[::2]:\n",
    "    sum_odd_digits += int(x)\n",
    "\n",
    "#step 3\n",
    "for x in card_number[::2]:\n",
    "    x = int(x) * 2 \n",
    "    if x >= 10:\n",
    "        sum_even_digits += (1 + (x % 10))\n",
    "    else:\n",
    "        sum_even_digits += x\n",
    "\n",
    "#step 4\n",
    "\n",
    "total = sum_odd_digits + sum_even_digits\n",
    "\n",
    "#step 5\n",
    "if total % 10 == 0:\n",
    "    print(\"VALID\")\n",
    "else:\n",
    "    print(\"INVALID\")"
   ]
  },
  {
   "cell_type": "code",
   "execution_count": null,
   "id": "5aa79bc1",
   "metadata": {},
   "outputs": [],
   "source": []
  }
 ],
 "metadata": {
  "kernelspec": {
   "display_name": "base",
   "language": "python",
   "name": "python3"
  },
  "language_info": {
   "codemirror_mode": {
    "name": "ipython",
    "version": 3
   },
   "file_extension": ".py",
   "mimetype": "text/x-python",
   "name": "python",
   "nbconvert_exporter": "python",
   "pygments_lexer": "ipython3",
   "version": "3.12.7"
  }
 },
 "nbformat": 4,
 "nbformat_minor": 5
}
