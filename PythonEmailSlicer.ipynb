{
 "cells": [
  {
   "cell_type": "markdown",
   "id": "cb1a55ae",
   "metadata": {},
   "source": [
    "### Python Email Slicer"
   ]
  },
  {
   "cell_type": "code",
   "execution_count": 1,
   "id": "40024d5e",
   "metadata": {},
   "outputs": [
    {
     "name": "stdout",
     "output_type": "stream",
     "text": [
      "Your username is lameesahAdar and domain is gmail.com\n"
     ]
    }
   ],
   "source": [
    "email = input(\"Enter your email: \")\n",
    "\n",
    "index = email.index(\"@\")\n",
    "\n",
    "username = email[:index]\n",
    "domain = email[index + 1:]\n",
    "\n",
    "print(f\"Your username is {username} and domain is {domain}\")"
   ]
  }
 ],
 "metadata": {
  "kernelspec": {
   "display_name": "base",
   "language": "python",
   "name": "python3"
  },
  "language_info": {
   "codemirror_mode": {
    "name": "ipython",
    "version": 3
   },
   "file_extension": ".py",
   "mimetype": "text/x-python",
   "name": "python",
   "nbconvert_exporter": "python",
   "pygments_lexer": "ipython3",
   "version": "3.12.7"
  }
 },
 "nbformat": 4,
 "nbformat_minor": 5
}
