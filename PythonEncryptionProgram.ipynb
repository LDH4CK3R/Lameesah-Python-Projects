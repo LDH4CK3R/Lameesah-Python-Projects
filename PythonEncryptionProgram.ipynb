{
 "cells": [
  {
   "cell_type": "markdown",
   "id": "e6968948",
   "metadata": {},
   "source": [
    "### Python Encryption Program"
   ]
  },
  {
   "cell_type": "code",
   "execution_count": 1,
   "id": "90c5d0a0",
   "metadata": {},
   "outputs": [
    {
     "name": "stdout",
     "output_type": "stream",
     "text": [
      "original message : Husna is a banana\n",
      "encrypted message: o@^CMz:^zMz%MCMCM\n",
      "encrypted message: o@^CMz:^zMz%MCMCM\n",
      "original message : Husna is a banana\n"
     ]
    }
   ],
   "source": [
    "import random\n",
    "import string\n",
    "\n",
    "chars = \" \" + string.punctuation + string.digits + string.ascii_letters\n",
    "chars = list(chars)\n",
    "key = chars.copy()\n",
    "\n",
    "random.shuffle(key)\n",
    "\n",
    "#print(f\"chars: {chars}\")\n",
    "#print(f\"key  : {key}\")\n",
    "\n",
    "#ENCRYPT\n",
    "plain_text = input(\"Enter a message to encrypt: \")\n",
    "cipher_text = \"\"\n",
    "\n",
    "for letter in plain_text:\n",
    "    index = chars.index(letter)\n",
    "    cipher_text += key[index]\n",
    "\n",
    "print(f\"original message : {plain_text}\")\n",
    "print(f\"encrypted message: {cipher_text}\")\n",
    "\n",
    "#DECRYPT\n",
    "cipher_text = input(\"Enter a message to decrypt: \")\n",
    "plain_text = \"\"\n",
    "\n",
    "for letter in cipher_text:\n",
    "    index = key.index(letter)\n",
    "    plain_text += chars[index]\n",
    "\n",
    "print(f\"encrypted message: {cipher_text}\")\n",
    "print(f\"original message : {plain_text}\")"
   ]
  },
  {
   "cell_type": "code",
   "execution_count": null,
   "id": "9bdae395",
   "metadata": {},
   "outputs": [],
   "source": []
  }
 ],
 "metadata": {
  "kernelspec": {
   "display_name": "base",
   "language": "python",
   "name": "python3"
  },
  "language_info": {
   "codemirror_mode": {
    "name": "ipython",
    "version": 3
   },
   "file_extension": ".py",
   "mimetype": "text/x-python",
   "name": "python",
   "nbconvert_exporter": "python",
   "pygments_lexer": "ipython3",
   "version": "3.12.7"
  }
 },
 "nbformat": 4,
 "nbformat_minor": 5
}
