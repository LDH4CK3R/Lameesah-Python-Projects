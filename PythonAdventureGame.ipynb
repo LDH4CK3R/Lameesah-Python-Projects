{
 "cells": [
  {
   "cell_type": "code",
   "execution_count": 4,
   "id": "6cd0c697",
   "metadata": {},
   "outputs": [
    {
     "name": "stdout",
     "output_type": "stream",
     "text": [
      "Welcome husna to this adventure!\n",
      "You talk to the stranger and they give you gold. you WIN!\n",
      "Thank you for trying husna\n"
     ]
    }
   ],
   "source": [
    "name = input(\"Type your name: \")\n",
    "print(\"Welcome\", name, \"to this adventure!\")\n",
    "\n",
    "answer = input(\n",
    "    \"You are on a dirt road, it has come to an end and you can go left or right. Which way would you like to go? \").lower()\n",
    "\n",
    "if answer == \"left\":\n",
    "   answer = input(\"You come to a river, you can walk around it or swim across? type walk to walk around and swim to swim across: \")\n",
    "   \n",
    "   if answer == \"swim\":\n",
    "       print(\"You swam across and were eaten by a shark.\")\n",
    "   elif answer == \"walk\":\n",
    "       print(\"You walked for many miles, ran out of water and you lost the game\")\n",
    "   else:\n",
    "       print('Not a valid option. you lose.')\n",
    "\n",
    "elif answer == \"right\":\n",
    "    answer = input(\"you came to a bridge, it looks wobbly, do you want to cross it or head back (cross/back)? \")\n",
    "\n",
    "    if answer == \"back\":\n",
    "       print(\"You go back and lose. \")\n",
    "    elif answer == \"cross\":\n",
    "       answer = input(\"You cross the bridge and meet a stranger. Do you talk to them (yes/no)? \")\n",
    "\n",
    "       if answer == \"yes\":\n",
    "           print(\"You talk to the stranger and they give you gold. you WIN!\")\n",
    "       elif answer == \"no\":\n",
    "           print(\"You ignore the stranger and they are offendedand you lose. \")\n",
    "       else:\n",
    "           print('Not a valid option. you lose.')\n",
    "    else:\n",
    "       print('Not a valid option. you lose.')\n",
    "\n",
    "else:\n",
    "    print('Not a valid option. you lose.') \n",
    "\n",
    "print(\"Thank you for trying\", name)"
   ]
  },
  {
   "cell_type": "code",
   "execution_count": null,
   "id": "cb2712eb",
   "metadata": {},
   "outputs": [],
   "source": [
    "\n"
   ]
  },
  {
   "cell_type": "code",
   "execution_count": null,
   "id": "3b181f04",
   "metadata": {},
   "outputs": [],
   "source": []
  }
 ],
 "metadata": {
  "kernelspec": {
   "display_name": "base",
   "language": "python",
   "name": "python3"
  },
  "language_info": {
   "codemirror_mode": {
    "name": "ipython",
    "version": 3
   },
   "file_extension": ".py",
   "mimetype": "text/x-python",
   "name": "python",
   "nbconvert_exporter": "python",
   "pygments_lexer": "ipython3",
   "version": "3.12.7"
  }
 },
 "nbformat": 4,
 "nbformat_minor": 5
}
