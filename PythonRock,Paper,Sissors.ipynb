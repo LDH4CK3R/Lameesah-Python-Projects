{
 "cells": [
  {
   "cell_type": "markdown",
   "id": "95181c6b",
   "metadata": {},
   "source": [
    "### Python Rock, Paper, Scissors"
   ]
  },
  {
   "cell_type": "code",
   "execution_count": null,
   "id": "d967c3c1",
   "metadata": {},
   "outputs": [],
   "source": [
    "import random\n",
    "\n",
    "options = (\"rock\",\"paper\",\"scissors\")\n",
    "running = True\n",
    "\n",
    "while running:\n",
    "\n",
    "    player = None\n",
    "    computor = random.choice(options)\n",
    "\n",
    "    while player not in options:\n",
    "        player = input(\"Enter a choice (rock, paper, scissors): \")\n",
    "\n",
    "    print(f\"player: {player}\")\n",
    "    print(f\"computor: {computor}\")\n",
    "\n",
    "    if player == computor:\n",
    "        print(\"It's a tie!\")\n",
    "\n",
    "    elif player == \"rock\" and computor == \"scissors\":\n",
    "        print(\"YOU WIN!\")\n",
    "\n",
    "    elif player == \"paper\" and computor == \"rock\":\n",
    "        print(\"YOU WIN!\")\n",
    "\n",
    "    elif player == \"scissors\" and computor == \"paper\":\n",
    "        print(\"YOU WIN!\")\n",
    "\n",
    "    else:\n",
    "        print(\"YOU LOSE!\")\n",
    "\n",
    "    play_again = input(\"Play again? (y/n): \").lower()\n",
    "    if not play_again == \"y\":\n",
    "        running = False\n",
    "\n",
    "print(\"Thanks for playing!\")"
   ]
  },
  {
   "cell_type": "code",
   "execution_count": null,
   "id": "e43ecf7f",
   "metadata": {},
   "outputs": [],
   "source": [
    "import random\n",
    "\n",
    "options = (\"rock\",\"paper\",\"scissors\")\n",
    "running = True\n",
    "\n",
    "while running:\n",
    "\n",
    "    player = None\n",
    "    computor = random.choice(options)\n",
    "\n",
    "    while player not in options:\n",
    "        player = input(\"Enter a choice (rock, paper, scissors): \")\n",
    "\n",
    "    print(f\"player: {player}\")\n",
    "    print(f\"computor: {computor}\")\n",
    "\n",
    "    if player == computor:\n",
    "        print(\"It's a tie!\")\n",
    "\n",
    "    elif player == \"rock\" and computor == \"scissors\":\n",
    "        print(\"YOU WIN!\")\n",
    "\n",
    "    elif player == \"paper\" and computor == \"rock\":\n",
    "        print(\"YOU WIN!\")\n",
    "\n",
    "    elif player == \"scissors\" and computor == \"paper\":\n",
    "        print(\"YOU WIN!\")\n",
    "\n",
    "    else:\n",
    "        print(\"YOU LOSE!\")\n",
    "\n",
    "    if not input(\"Play again? (y/n): \").lower()== \"y\":\n",
    "        running = False\n",
    "\n",
    "print(\"Thanks for playing!\")"
   ]
  }
 ],
 "metadata": {
  "kernelspec": {
   "display_name": "base",
   "language": "python",
   "name": "python3"
  },
  "language_info": {
   "name": "python",
   "version": "3.12.7"
  }
 },
 "nbformat": 4,
 "nbformat_minor": 5
}
