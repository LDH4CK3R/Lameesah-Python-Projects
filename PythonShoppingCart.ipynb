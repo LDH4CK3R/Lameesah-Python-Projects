{
 "cells": [
  {
   "cell_type": "markdown",
   "id": "d76d7d96",
   "metadata": {},
   "source": [
    "### Python Shopping Cart"
   ]
  },
  {
   "cell_type": "code",
   "execution_count": 1,
   "id": "484f2c95",
   "metadata": {},
   "outputs": [
    {
     "name": "stdout",
     "output_type": "stream",
     "text": [
      "----- YOUR CART -----\n",
      "banana\n",
      "\n",
      "Your total is: £3.0\n"
     ]
    }
   ],
   "source": [
    "foods = []\n",
    "prices = []\n",
    "total = 0\n",
    "\n",
    "while True:\n",
    "    food = input(\"Enter a food to buy (q to quit): \")\n",
    "    if food.lower() == \"q\":\n",
    "        break\n",
    "    else: \n",
    "        price = float(input(f\"Enter the price of a {food}: £\"))\n",
    "        foods.append(food)\n",
    "        prices.append(price)\n",
    "\n",
    "print(\"----- YOUR CART -----\")\n",
    "\n",
    "for food in foods:\n",
    "    print(food)\n",
    "\n",
    "for price in prices:\n",
    "    total += price\n",
    "\n",
    "print()\n",
    "print(f\"Your total is: £{total}\")"
   ]
  }
 ],
 "metadata": {
  "kernelspec": {
   "display_name": "base",
   "language": "python",
   "name": "python3"
  },
  "language_info": {
   "codemirror_mode": {
    "name": "ipython",
    "version": 3
   },
   "file_extension": ".py",
   "mimetype": "text/x-python",
   "name": "python",
   "nbconvert_exporter": "python",
   "pygments_lexer": "ipython3",
   "version": "3.12.7"
  }
 },
 "nbformat": 4,
 "nbformat_minor": 5
}
