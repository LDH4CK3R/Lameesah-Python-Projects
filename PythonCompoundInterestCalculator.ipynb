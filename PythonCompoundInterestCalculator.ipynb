{
 "cells": [
  {
   "cell_type": "markdown",
   "id": "b81d467f",
   "metadata": {},
   "source": [
    "### Python Compound Interest Calculator"
   ]
  },
  {
   "cell_type": "code",
   "execution_count": 1,
   "id": "3c3aaec2",
   "metadata": {},
   "outputs": [
    {
     "name": "stdout",
     "output_type": "stream",
     "text": [
      "Balance after 1 year/s: $1100.00\n"
     ]
    }
   ],
   "source": [
    "principle = 0\n",
    "rate = 0\n",
    "time = 0\n",
    "\n",
    "while principle <= 0:\n",
    "    principle = float(input(\"Enter the principle amount: \"))\n",
    "    if principle <= 0:\n",
    "        print(\"Principle can't be less than or equal to zero\")\n",
    "\n",
    "while rate <= 0:\n",
    "    rate = float(input(\"Enter the Interest Rate: \"))\n",
    "    if rate <= 0:\n",
    "        print(\"Interest rate can't be less than or equal to zero\")\n",
    "\n",
    "while time <= 0:\n",
    "    time = int(input(\"Enter the time in years: \"))\n",
    "    if time <= 0:\n",
    "        print(\"Time can't be less than or equal to zero\")\n",
    "\n",
    "total = principle * pow((1 + rate / 100), time)\n",
    "print(f\"Balance after {time} year/s: ${total:.2f}\")"
   ]
  },
  {
   "cell_type": "code",
   "execution_count": 2,
   "id": "ac911d7c",
   "metadata": {},
   "outputs": [
    {
     "name": "stdout",
     "output_type": "stream",
     "text": [
      "Balance after 0 year/s: $0.00\n"
     ]
    }
   ],
   "source": [
    "\n",
    "principle = 0\n",
    "rate = 0\n",
    "time = 0\n",
    "\n",
    "while True:\n",
    "    principle = float(input(\"Enter the principle amount: \"))\n",
    "    if principle < 0:\n",
    "        print(\"Principle can't be less than zero\")\n",
    "    else:\n",
    "        break    \n",
    "\n",
    "while True:\n",
    "    rate = float(input(\"Enter the Interest Rate: \"))\n",
    "    if rate < 0:\n",
    "        print(\"Interest rate can't be less than zero\")\n",
    "    else:\n",
    "        break\n",
    "\n",
    "while True:\n",
    "    time = int(input(\"Enter the time in years: \"))\n",
    "    if time < 0:\n",
    "        print(\"Time can't be less than zero\")\n",
    "    else:\n",
    "        break\n",
    "\n",
    "total = principle * pow((1 + rate / 100), time)\n",
    "print(f\"Balance after {time} year/s: ${total:.2f}\")"
   ]
  }
 ],
 "metadata": {
  "kernelspec": {
   "display_name": "base",
   "language": "python",
   "name": "python3"
  },
  "language_info": {
   "codemirror_mode": {
    "name": "ipython",
    "version": 3
   },
   "file_extension": ".py",
   "mimetype": "text/x-python",
   "name": "python",
   "nbconvert_exporter": "python",
   "pygments_lexer": "ipython3",
   "version": "3.12.7"
  }
 },
 "nbformat": 4,
 "nbformat_minor": 5
}
