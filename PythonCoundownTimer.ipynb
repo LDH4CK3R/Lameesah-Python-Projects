{
 "cells": [
  {
   "cell_type": "markdown",
   "id": "dece5c55",
   "metadata": {},
   "source": [
    "### Python Count down Timer"
   ]
  },
  {
   "cell_type": "code",
   "execution_count": 2,
   "id": "db0bf851",
   "metadata": {},
   "outputs": [
    {
     "name": "stdout",
     "output_type": "stream",
     "text": [
      "00:00:03\n",
      "00:00:02\n",
      "00:00:01\n",
      "TIME'S UP!\n"
     ]
    }
   ],
   "source": [
    "import time\n",
    "\n",
    "my_time = int(input(\"Enter the time in seconds: \"))\n",
    "\n",
    "for x in range(my_time, 0, -1):\n",
    "    seconds = x % 60\n",
    "    minutes = int(x / 60) % 60\n",
    "    hours = int(x / 3600)\n",
    "    print(f\"{hours:02}:{minutes:02}:{seconds:02}\")\n",
    "    time.sleep(1)\n",
    "\n",
    "print(\"TIME'S UP!\")"
   ]
  },
  {
   "cell_type": "code",
   "execution_count": null,
   "id": "1be53067",
   "metadata": {},
   "outputs": [],
   "source": []
  }
 ],
 "metadata": {
  "kernelspec": {
   "display_name": "base",
   "language": "python",
   "name": "python3"
  },
  "language_info": {
   "codemirror_mode": {
    "name": "ipython",
    "version": 3
   },
   "file_extension": ".py",
   "mimetype": "text/x-python",
   "name": "python",
   "nbconvert_exporter": "python",
   "pygments_lexer": "ipython3",
   "version": "3.12.7"
  }
 },
 "nbformat": 4,
 "nbformat_minor": 5
}
