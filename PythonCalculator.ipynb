{
 "cells": [
  {
   "cell_type": "markdown",
   "id": "00b8e16e",
   "metadata": {},
   "source": [
    "### Python Calculator"
   ]
  },
  {
   "cell_type": "code",
   "execution_count": 6,
   "id": "6c8bc2d8",
   "metadata": {},
   "outputs": [
    {
     "name": "stdout",
     "output_type": "stream",
     "text": [
      "5.0\n"
     ]
    }
   ],
   "source": [
    "operator = input(\"Enter an operator (+ - * /)\")\n",
    "num1 = float(input(\"Enter the 1st number: \"))\n",
    "num2 = float(input(\"Enter the 2nd number: \"))\n",
    "\n",
    "if operator == \"+\":\n",
    "    result = num1 + num2 \n",
    "    print(round(result, 3))\n",
    "\n",
    "elif operator == \"-\":\n",
    "    result = num1 - num2\n",
    "    print(round(result, 3))\n",
    "\n",
    "elif operator == \"*\":\n",
    "    result = num1 * num2\n",
    "    print(round(result, 3))\n",
    "\n",
    "elif operator == \"/\":\n",
    "    result = num1 / num2\n",
    "    print(round(result, 3))\n",
    "else:\n",
    "    print(f\"{operator} is not a valid operator\")"
   ]
  }
 ],
 "metadata": {
  "kernelspec": {
   "display_name": "base",
   "language": "python",
   "name": "python3"
  },
  "language_info": {
   "codemirror_mode": {
    "name": "ipython",
    "version": 3
   },
   "file_extension": ".py",
   "mimetype": "text/x-python",
   "name": "python",
   "nbconvert_exporter": "python",
   "pygments_lexer": "ipython3",
   "version": "3.12.7"
  }
 },
 "nbformat": 4,
 "nbformat_minor": 5
}
